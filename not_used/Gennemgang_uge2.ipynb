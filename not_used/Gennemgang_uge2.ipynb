{
 "cells": [
  {
   "cell_type": "markdown",
   "metadata": {},
   "source": [
    "# Gennemgang af uge 2 Syntese\n",
    "- Arbejdet meget med min AWS instance, og prøvet at sætte den op mm.... (skrevet ned i Appendix)\n",
    "- Kæmpet en hel del med SNAP i min AWS instance.. Måtte tilsidst give op. Fik dog installeret DESKTOP versionen i min instance der fungerer..\n",
    "- Installeret SNAP (både dekstop og gpt) på min egen der fungerer..\n",
    "- Fået downloaded mange S1 og S2 billeder\n",
    "- Undersøgt og arbejdet med både graph builder, GPT mm. Det spiller\n",
    "- Arbejdet med S1 og S2 i Python..\n",
    "- Skrevet meget lidt teori (om s3).\n",
    "- læst om ML og CNN..\n",
    "\n",
    "- jeg har IKKE kigget på flere steder "
   ]
  },
  {
   "cell_type": "markdown",
   "metadata": {},
   "source": [
    "## Download billeder\n",
    "\n",
    "Jeg har fået hentet billder fra s1, s2 og s3. De er hentet fra forskellige steder da det er lidt besværligt..\n",
    "\n",
    "- s1: Hentet via pythin script der er genereret fra ASF\n",
    "- s2: Har lavet mit python script der anvender sentinel API til at downloade.. Det fungerer IKKE med offline billeder.\n",
    "- s3: Hentet via NASAs LP DAAC via wget kommandoer..."
   ]
  },
  {
   "cell_type": "markdown",
   "metadata": {},
   "source": [
    "## Arbejdet med billeder\n",
    "Jeg har ikke fået arbejdet med s3 billederne endnu, har arbejdet lidt med s1 og s3 derimod.\n",
    "\n",
    "### S1\n",
    "- downloaded vha ASF. \n",
    "- Fundet ud af at behandle dem vha. snaps graph. (STIL SPØRGSMÅL TIL OUTPUT!!)\n",
    "- Åbnet dem i Python\n",
    "- Illustreret dem i Python\n",
    "- Begyndt at lave en del funktioner..\n",
    "        + dele dem op, til CCN (kan bruges til andet.)\n",
    "        \n",
    "        \n",
    "### S2\n",
    "- kæmpet meget med at downloade mere end et af gangen.... \n",
    "       +Endte med at få sentinel api til at fungere. Kan ikke downloade offline nu.\n",
    "- Kan arbejde med dem i SNAP. (STIL SPØRGSMÅL TIL OUTPUT).\n",
    "- Har lavet MEGET I PYTHON TIL DET!\n",
    "- Illustreret:\n",
    "        Jeg har kunne illustrere området ved Sokndal fra slut marts til start maj. (branden var midt april):\n",
    "        Især grundet skyer er det svært at sige noget om det... (Vis min notebook)\n",
    "\n",
    "### S3\n",
    "- Downloadet. Ikke arbejdet med eller illustreret.\n"
   ]
  },
  {
   "cell_type": "markdown",
   "metadata": {},
   "source": [
    "# Opgaven\n",
    "- Fået lavet en god og flot template. \n",
    "- nogenlunde tænkt over hvad jeg skal have I den.\n",
    "- Skrevet lidt i Appendiks vedr. SNAP og AWS\n",
    "- Skrevet en smule teori vedr. s3. Ikke rettet på nogen måde!\n"
   ]
  },
  {
   "cell_type": "markdown",
   "metadata": {},
   "source": [
    "# Spørgsmål\n",
    "\n",
    "1) S2 Snap:\n",
    "    Hvilken format skal jeg gemme i. Jeg har prøvet forskellige geoTiff formater, .jp2, og BIMAP.\n",
    "    Ingen af dem eksporterer koordinatsættet. \n",
    "    \n",
    "2) S1 Snap:\n",
    "    Lidt det samme."
   ]
  },
  {
   "cell_type": "markdown",
   "metadata": {},
   "source": [
    "# Næste uge\n",
    "\n",
    "- Eksamener, får nok ikke lavet så meget.\n"
   ]
  },
  {
   "cell_type": "code",
   "execution_count": null,
   "metadata": {},
   "outputs": [],
   "source": []
  }
 ],
 "metadata": {
  "kernelspec": {
   "display_name": "Python 3",
   "language": "python",
   "name": "python3"
  },
  "language_info": {
   "codemirror_mode": {
    "name": "ipython",
    "version": 3
   },
   "file_extension": ".py",
   "mimetype": "text/x-python",
   "name": "python",
   "nbconvert_exporter": "python",
   "pygments_lexer": "ipython3",
   "version": "3.7.7"
  }
 },
 "nbformat": 4,
 "nbformat_minor": 4
}
