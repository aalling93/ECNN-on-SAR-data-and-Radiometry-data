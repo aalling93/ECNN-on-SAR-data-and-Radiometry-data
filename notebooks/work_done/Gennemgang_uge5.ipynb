{
 "cells": [
  {
   "cell_type": "markdown",
   "metadata": {},
   "source": [
    "# Gennemgang af uge 2 Syntese\n"
   ]
  },
  {
   "cell_type": "markdown",
   "metadata": {},
   "source": [
    "### Mål for ugen\n",
    "1) find S3 billede fra d. 19 juli 2018 i Ljundall [x]\n",
    "\n",
    "2) find s2 billede fra d. 19 juli 2018 i Ljundall [x]\n",
    "\n",
    "3) find s3 billede fra d. 19 juli 2018 i Ljundall [x]\n",
    "\n",
    "4) process s1 billede(et) [x]\n",
    "\n",
    "5) lær at processerer sentinel 3 billede jf. snap og ATP [ ]\n",
    "\n",
    "6) procceser sentinel 3 billedet (de nødvendige bands) [ ]\n",
    "\n",
    "    - fjern vand\n",
    "    - fjern sunglimps\n",
    "    - brug nødvendige bands\n",
    "    - geocode\n",
    "7) indlæs og procceser s1 og s3 i Python [x]\n",
    "\n",
    "8) indlæs og procceser s1 og s3 i Python [ ]\n",
    "\n",
    "9) Kig på S2 billedet og kig lidt på branden [x]\n",
    "\n",
    "9) Prøv opstart på netvæket [X]"
   ]
  },
  {
   "cell_type": "code",
   "execution_count": null,
   "metadata": {},
   "outputs": [],
   "source": []
  }
 ],
 "metadata": {
  "kernelspec": {
   "display_name": "Python 3",
   "language": "python",
   "name": "python3"
  },
  "language_info": {
   "codemirror_mode": {
    "name": "ipython",
    "version": 3
   },
   "file_extension": ".py",
   "mimetype": "text/x-python",
   "name": "python",
   "nbconvert_exporter": "python",
   "pygments_lexer": "ipython3",
   "version": "3.7.7"
  }
 },
 "nbformat": 4,
 "nbformat_minor": 4
}
