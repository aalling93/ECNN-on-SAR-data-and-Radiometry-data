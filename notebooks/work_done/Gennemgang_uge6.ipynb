{
 "cells": [
  {
   "cell_type": "markdown",
   "metadata": {},
   "source": [
    "# gennemgang uge 6\n",
    "\n",
    "Efter mødet var der følgende to opgaver til den kommende uge:\n",
    "\n",
    "- Undersøg sentinel 1 og dets evne til at detektere skovbrande. \n",
    "\n",
    "- Lav et collated S1 og S3 billede.\n",
    "------------------------------\n",
    "Ideer til analyse af sentinel 1:\n",
    "- ideer\n",
    "     * Kig eks. på false colour images.\n",
    "     * Kif på histogramer\n",
    "     * Kig på ændring (tag flere tidligere billdeer, se ændring)\n",
    "     * kig på VV/VH\n",
    "\n",
    "\n",
    "-------------------------------\n",
    "\n",
    "## Arbejde med S1 og S3 collocate (4 fulde dage..)\n",
    "- Jeg har kæmpet meget med at få collated S1 og S3. Problemet er der er ikke meget info, især ikke om S3-SL-1-RBT produktet..\n",
    "\n",
    "- Jeg har skulle lave grafen i notepad.\n",
    "\n",
    "- Der er ikke meget hjælp at hente\n",
    "\n",
    "- alt skal gøres i en MEGET specifik rækkefølge i grafen. Den har jeg selvlært.\n",
    "\n",
    "- Man kan ikke eksportere det til GEOTIFF, så giver den fejl. Meget kryptisk fejl.  Den skal være bimap\n",
    "     * får ikke fejlen medmindre jeg brugte -e , det tager tid at finde ud af\n",
    "        \n",
    "- Har skrevet på STEP forum. \n",
    "\n",
    "\n",
    "#### summary s1 problemer\n",
    "\n",
    "    - Jeg Kan ikke lave et stack at flere billeder\n",
    "    - Jeg Kan ikke lave det samme subset på to billeder og arbejde med dem\n",
    "    - Jeg kan ikke lave en graf der arbejder med flere billeder og giver output"
   ]
  },
  {
   "cell_type": "markdown",
   "metadata": {},
   "source": [
    "# GPT"
   ]
  },
  {
   "cell_type": "code",
   "execution_count": null,
   "metadata": {},
   "outputs": [],
   "source": []
  }
 ],
 "metadata": {
  "kernelspec": {
   "display_name": "Python 3",
   "language": "python",
   "name": "python3"
  },
  "language_info": {
   "codemirror_mode": {
    "name": "ipython",
    "version": 3
   },
   "file_extension": ".py",
   "mimetype": "text/x-python",
   "name": "python",
   "nbconvert_exporter": "python",
   "pygments_lexer": "ipython3",
   "version": "3.7.7"
  }
 },
 "nbformat": 4,
 "nbformat_minor": 4
}
