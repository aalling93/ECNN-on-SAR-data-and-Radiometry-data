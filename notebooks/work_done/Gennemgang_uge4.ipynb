{
 "cells": [
  {
   "cell_type": "markdown",
   "metadata": {},
   "source": [
    "# Gennemgang uge 4 syntese\n",
    "- konkluderet Sokndal i Norge er en \"lille\" brand - droppet den..\n",
    "\n",
    "- downloadet MODIS i Sverige for hele maj-august 2018\n",
    "\n",
    "\n",
    "- Fundet største brande i Sverige \n",
    "    * Stemmer overens med pdf om deres brande\n",
    "    \n",
    "    \n",
    "- Sentinel 2 billeder derfra er offline. (prøvede meget...)\n",
    "\n",
    "- Downloaded sentinel 1 billeder fra den største brand\n",
    "- Sentinel 1 billeder i snap fucker med mig\n",
    "- downloade sentinel 3 billeder fucker med mig"
   ]
  },
  {
   "cell_type": "markdown",
   "metadata": {},
   "source": [
    "## Spørgsmål\n",
    "\n",
    "- Hjælp til Sentinel 3"
   ]
  },
  {
   "cell_type": "code",
   "execution_count": null,
   "metadata": {},
   "outputs": [],
   "source": []
  }
 ],
 "metadata": {
  "kernelspec": {
   "display_name": "Python 3",
   "language": "python",
   "name": "python3"
  },
  "language_info": {
   "codemirror_mode": {
    "name": "ipython",
    "version": 3
   },
   "file_extension": ".py",
   "mimetype": "text/x-python",
   "name": "python",
   "nbconvert_exporter": "python",
   "pygments_lexer": "ipython3",
   "version": "3.7.7"
  }
 },
 "nbformat": 4,
 "nbformat_minor": 4
}
