{
 "cells": [
  {
   "cell_type": "markdown",
   "metadata": {},
   "source": [
    "# Gennemgang uge 7\n",
    "\n",
    "- Arbejdet på at analysere S1 billeder (som I så i vedhæftede notebook).\n",
    "    - Ikke meget nyt siden den. Har prøvet forskellige værdier for median og mean\n",
    "    - Har taget et større udsnit af Box 1 så man kan se hvor det er. Man kan godt se hvorfor der er det \"spike\" i intensiteterne. Ved ikke om det har noget med ilden at gøre tbh...\n",
    "    - Har kigget på histogrammerne, skal vælge nogle bedre områder tror jeg. Men det er svært at se noget specielt ved brandende...\n",
    "    \n",
    "- Fået collocation til... at \"fungere\" - det driller satme meget..\n",
    "\n",
    "- begyndt at skrive"
   ]
  },
  {
   "cell_type": "markdown",
   "metadata": {},
   "source": [
    "Prøv i uge 8\n",
    "+ normalisere ift. reference billede.\n",
    "+ ændre fra dB til intensitet\n"
   ]
  },
  {
   "cell_type": "code",
   "execution_count": null,
   "metadata": {},
   "outputs": [],
   "source": []
  }
 ],
 "metadata": {
  "kernelspec": {
   "display_name": "Python 3",
   "language": "python",
   "name": "python3"
  },
  "language_info": {
   "codemirror_mode": {
    "name": "ipython",
    "version": 3
   },
   "file_extension": ".py",
   "mimetype": "text/x-python",
   "name": "python",
   "nbconvert_exporter": "python",
   "pygments_lexer": "ipython3",
   "version": "3.7.7"
  }
 },
 "nbformat": 4,
 "nbformat_minor": 4
}
